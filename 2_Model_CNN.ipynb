{
 "cells": [
  {
   "cell_type": "code",
   "execution_count": null,
   "metadata": {
    "collapsed": true
   },
   "outputs": [],
   "source": [
    "import numpy as np\n",
    "import tensorflow as tf\n",
    "from six.moves import cPickle as pickle"
   ]
  },
  {
   "cell_type": "code",
   "execution_count": null,
   "metadata": {
    "collapsed": true
   },
   "outputs": [],
   "source": [
    "def readData(pickleFiles):\n",
    "    ''' read pickle data'''\n",
    "    data = None\n",
    "    labels = None\n",
    "    for pf in pickleFiles:\n",
    "        with open(pf, 'rb') as f:\n",
    "            save = pickle.load(f)\n",
    "            if data == None:\n",
    "                data = save['data']\n",
    "                labels = save['labels']\n",
    "            else:\n",
    "                data = np.concatenate((data, save['data']))\n",
    "                labels = np.concatenate((labels, save['labels']))\n",
    "        del save\n",
    "    return (data, labels)"
   ]
  },
  {
   "cell_type": "code",
   "execution_count": null,
   "metadata": {
    "collapsed": false
   },
   "outputs": [],
   "source": [
    "train_pickle_files = ['SVHN_train0.pickle', 'SVHN_train1.pickle', 'SVHN_train2.pickle', 'SVHN_train3.pickle', \\\n",
    "                      'SVHN_train4.pickle', 'SVHN_train5.pickle', 'SVHN_train6.pickle']\n",
    "test_pickle_files = ['SVHN_test0.pickle', 'SVHN_test1.pickle', 'SVHN_test2.pickle']\n",
    "(train_data, train_labels) = readData(train_pickle_files)\n",
    "(test_data, test_labels) = readData(test_pickle_files)"
   ]
  },
  {
   "cell_type": "code",
   "execution_count": null,
   "metadata": {
    "collapsed": false,
    "scrolled": false
   },
   "outputs": [],
   "source": [
    "def accuracy(predictions, originals):\n",
    "    ''' accuracy of our model'''\n",
    "    out = np.argmax(predictions, 2).T\n",
    "    ne = 0\n",
    "    for l in range(out.shape[0]):\n",
    "    #out = np.argmax(predictions, 2).T\n",
    "    #print out[l]\n",
    "    #print batch_labels[l][1:6]\n",
    "        for i in range(5):\n",
    "            if (out[l][i] != originals[l][i]):\n",
    "                #print \"%d NOT EQUAL\" % (l)\n",
    "                ne = ne+1\n",
    "                break\n",
    "    equ = out.shape[0] - ne\n",
    "    print \"EQUALS %d OUT OF %d\" % (equ, out.shape[0])"
   ]
  },
  {
   "cell_type": "code",
   "execution_count": null,
   "metadata": {
    "collapsed": false
   },
   "outputs": [],
   "source": [
    "# hyper parameters\n",
    "BATCH_SIZE = 64\n",
    "IMAGE_SIZE = 32\n",
    "NUM_CHANNELS = 1\n",
    "DEPTH1 = 16\n",
    "DEPTH2 = 32\n",
    "DEPTH3 = 64\n",
    "SEED = 66478\n",
    "OUT_LABELS = 11\n",
    "ORIG_LABELS = 6\n",
    "NUM_EPOCHS=10\n",
    "train_size = train_labels.shape[0]"
   ]
  },
  {
   "cell_type": "code",
   "execution_count": null,
   "metadata": {
    "collapsed": false
   },
   "outputs": [],
   "source": [
    "graph = tf.Graph()\n",
    "with graph.as_default():\n",
    "    train_data_node = tf.placeholder(tf.float32, shape = (BATCH_SIZE, IMAGE_SIZE, IMAGE_SIZE, NUM_CHANNELS))\n",
    "    train_labels_node = tf.placeholder(tf.int64, shape = (BATCH_SIZE, 5))\n",
    "    test_data_node = tf.constant(test_data)\n",
    "    \n",
    "    conv1_weights = tf.Variable(tf.truncated_normal([5, 5, NUM_CHANNELS, DEPTH1], \n",
    "                                stddev = 0.1,\n",
    "                                seed = SEED,\n",
    "                                dtype = tf.float32))\n",
    "    conv1_biases = tf.Variable(tf.constant(0.1, shape=[DEPTH1], dtype=tf.float32))\n",
    "    conv2_weights = tf.Variable(tf.truncated_normal([5, 5, DEPTH1, DEPTH2],\n",
    "                                stddev = 0.1,\n",
    "                                seed = SEED,\n",
    "                                dtype = tf.float32))\n",
    "    conv2_biases = tf.Variable(tf.constant(0.1, shape=[DEPTH2], dtype=tf.float32))\n",
    "    conv3_weights = tf.Variable(tf.truncated_normal([5, 5, DEPTH2, DEPTH3],\n",
    "                                stddev = 0.1,\n",
    "                                seed = SEED,\n",
    "                                dtype = tf.float32))\n",
    "    conv3_biases = tf.Variable(tf.constant(0.1, shape=[DEPTH3], dtype=tf.float32))\n",
    "    \n",
    "    #fully connected layers and biases\n",
    "    fc1_weights = tf.Variable(tf.truncated_normal([DEPTH3, OUT_LABELS],\n",
    "                                                 stddev = 0.1,\n",
    "                                                 seed = SEED, dtype=tf.float32))\n",
    "    fc1_biases = tf.Variable(tf.constant(0.1, shape=[OUT_LABELS], dtype=tf.float32))\n",
    "    fc2_weights = tf.Variable(tf.truncated_normal([DEPTH3, OUT_LABELS],\n",
    "                                                 stddev = 0.1,\n",
    "                                                 seed = SEED, dtype=tf.float32))\n",
    "    fc2_biases = tf.Variable(tf.constant(0.1, shape=[OUT_LABELS], dtype=tf.float32))\n",
    "    fc3_weights = tf.Variable(tf.truncated_normal([DEPTH3, OUT_LABELS],\n",
    "                                                 stddev = 0.1,\n",
    "                                                 seed = SEED, dtype=tf.float32))\n",
    "    fc3_biases = tf.Variable(tf.constant(0.1, shape=[OUT_LABELS], dtype=tf.float32))\n",
    "    fc4_weights = tf.Variable(tf.truncated_normal([DEPTH3, OUT_LABELS],\n",
    "                                                 stddev = 0.1,\n",
    "                                                 seed = SEED, dtype=tf.float32))\n",
    "    fc4_biases = tf.Variable(tf.constant(0.1, shape=[OUT_LABELS], dtype=tf.float32))\n",
    "    fc5_weights = tf.Variable(tf.truncated_normal([DEPTH3, OUT_LABELS],\n",
    "                                                 stddev = 0.1,\n",
    "                                                 seed = SEED, dtype=tf.float32))\n",
    "    fc5_biases = tf.Variable(tf.constant(0.1, shape=[OUT_LABELS], dtype=tf.float32))\n",
    "    def model(data, train=False):\n",
    "        conv = tf.nn.conv2d(data, conv1_weights, strides=[1,1,1,1], padding='VALID')\n",
    "        relu = tf.nn.relu(tf.nn.bias_add(conv, conv1_biases))\n",
    "        pool = tf.nn.max_pool(relu, ksize=[1,2,2,1], strides=[1,2,2,1], padding='SAME')\n",
    "        conv = tf.nn.conv2d(pool, conv2_weights, strides=[1,1,1,1], padding='VALID')\n",
    "        relu = tf.nn.relu(tf.nn.bias_add(conv, conv2_biases))\n",
    "        pool = tf.nn.max_pool(relu, ksize=[1,2,2,1], strides=[1,2,2,1], padding='SAME')\n",
    "        conv = tf.nn.conv2d(pool, conv3_weights, strides=[1,1,1,1], padding='VALID')\n",
    "        hidden = tf.nn.relu(tf.nn.bias_add(conv, conv3_biases))\n",
    "        if train:\n",
    "            hidden = tf.nn.dropout(hidden, 0.95, seed=SEED)\n",
    "        shape=hidden.get_shape().as_list()\n",
    "        reshape=tf.reshape(hidden, [shape[0], shape[1]*shape[2]*shape[3]])\n",
    "        # fully connected layers\n",
    "        logits1 = tf.matmul(reshape, fc1_weights) + fc1_biases\n",
    "        logits2 = tf.matmul(reshape, fc2_weights) + fc2_biases\n",
    "        logits3 = tf.matmul(reshape, fc3_weights) + fc3_biases\n",
    "        logits4 = tf.matmul(reshape, fc4_weights) + fc4_biases\n",
    "        logits5 = tf.matmul(reshape, fc5_weights) + fc5_biases\n",
    "        return [logits1, logits2, logits3, logits4, logits5]\n",
    "    train_logits = model(train_data_node, train=True)\n",
    "    # loss function\n",
    "    loss = tf.reduce_mean(tf.nn.sparse_softmax_cross_entropy_with_logits(train_logits[0], train_labels_node[:,0])) + \\\n",
    "            tf.reduce_mean(tf.nn.sparse_softmax_cross_entropy_with_logits(train_logits[1], train_labels_node[:,1])) + \\\n",
    "            tf.reduce_mean(tf.nn.sparse_softmax_cross_entropy_with_logits(train_logits[2], train_labels_node[:,2])) + \\\n",
    "            tf.reduce_mean(tf.nn.sparse_softmax_cross_entropy_with_logits(train_logits[3], train_labels_node[:,3])) + \\\n",
    "            tf.reduce_mean(tf.nn.sparse_softmax_cross_entropy_with_logits(train_logits[4], train_labels_node[:,4]))\n",
    "            \n",
    "    batch = tf.Variable(0)\n",
    "    learning_rate = tf.train.exponential_decay(0.01, batch*BATCH_SIZE, train_size, 0.95, staircase=True)\n",
    "    optimizer = tf.train.MomentumOptimizer(learning_rate, 0.9).minimize(loss, global_step=batch)\n",
    "    train_prediction = tf.pack([tf.nn.softmax(train_logits[0]),\n",
    "                                tf.nn.softmax(train_logits[1]),\n",
    "                                tf.nn.softmax(train_logits[2]),\n",
    "                                tf.nn.softmax(train_logits[3]),\n",
    "                                tf.nn.softmax(train_logits[4])])\n",
    "    test_logits = model(test_data_node, train=False)\n",
    "    test_prediction = tf.pack([tf.nn.softmax(test_logits[0]),\n",
    "                                tf.nn.softmax(test_logits[1]),\n",
    "                                tf.nn.softmax(test_logits[2]),\n",
    "                                tf.nn.softmax(test_logits[3]),\n",
    "                                tf.nn.softmax(test_logits[4])])\n",
    "with tf.Session(graph = graph) as session:\n",
    "    tf.initialize_all_variables().run()\n",
    "    print('Initialized')\n",
    "    for step in xrange(int(NUM_EPOCHS*train_size) // BATCH_SIZE):\n",
    "        offset = (step*BATCH_SIZE) % (train_size - BATCH_SIZE)\n",
    "        batch_data = train_data[offset:(offset + BATCH_SIZE),]\n",
    "        batch_labels = train_labels[offset:(offset+BATCH_SIZE)]\n",
    "        feed_dict = {train_data_node:batch_data, train_labels_node:batch_labels}\n",
    "        _, l, lr,train_out = session.run([optimizer, loss, learning_rate, train_prediction], \n",
    "                                               feed_dict=feed_dict)\n",
    "\n",
    "#        _, l, lr, train_prediction = session.run([optimizer, loss, learning_rate, train_prediction], \n",
    "#                                               feed_dict=feed_dict)\n",
    "        if step%50 == 0:\n",
    "            accuracy(train_out, batch_labels)\n",
    "    accuracy(test_prediction.eval(), test_labels)\n",
    "    test_prediction = test_prediction.eval()\n",
    "    #print(np.argmax(test_prediction.eval(), 2).T[11])"
   ]
  },
  {
   "cell_type": "code",
   "execution_count": null,
   "metadata": {
    "collapsed": false
   },
   "outputs": [],
   "source": [
    "with graph.as_default():\n",
    "    print((test_prediction.shape))\n",
    "    print(np.argmax(test_prediction, 2).T[11])\n",
    "    print(np.argmax(test_prediction, 2).T[21])\n",
    "    "
   ]
  },
  {
   "cell_type": "code",
   "execution_count": null,
   "metadata": {
    "collapsed": true
   },
   "outputs": [],
   "source": []
  },
  {
   "cell_type": "code",
   "execution_count": null,
   "metadata": {
    "collapsed": true
   },
   "outputs": [],
   "source": []
  },
  {
   "cell_type": "code",
   "execution_count": null,
   "metadata": {
    "collapsed": true
   },
   "outputs": [],
   "source": []
  },
  {
   "cell_type": "code",
   "execution_count": null,
   "metadata": {
    "collapsed": true
   },
   "outputs": [],
   "source": []
  },
  {
   "cell_type": "code",
   "execution_count": null,
   "metadata": {
    "collapsed": false
   },
   "outputs": [],
   "source": [
    "graph = tf.Graph()\n",
    "\n",
    "# FIRST ATTEMPT\n",
    "# Try with fully connected layers\n",
    "with graph.as_default():\n",
    "    train_data_node = tf.placeholder(tf.float32, shape = (BATCH_SIZE, IMAGE_SIZE*IMAGE_SIZE))\n",
    "    train_labels_node = tf.placeholder(tf.int64, shape = (BATCH_SIZE, ORIG_LABELS))\n",
    "    \n",
    "    #test_data_node = tf.constant(test_data)\n",
    "    \n",
    "    fc1_weights = tf.Variable(tf.truncated_normal([IMAGE_SIZE*IMAGE_SIZE, OUT_LABELS],\n",
    "                                                 stddev = 0.1,\n",
    "                                                 seed = SEED, dtype=tf.float32))\n",
    "    fc1_biases = tf.Variable(tf.constant(0.1, shape=[OUT_LABELS], dtype=tf.float32))\n",
    "    \n",
    "    # Training computation.\n",
    "    logits1 = tf.matmul(train_data_node, fc1_weights) + fc1_biases\n",
    "    logits2 = tf.matmul(train_data_node, fc1_weights) + fc1_biases\n",
    "    logits3 = tf.matmul(train_data_node, fc1_weights) + fc1_biases\n",
    "    logits4 = tf.matmul(train_data_node, fc1_weights) + fc1_biases\n",
    "    logits5 = tf.matmul(train_data_node, fc1_weights) + fc1_biases\n",
    "    \n",
    "    loss = tf.reduce_mean(tf.nn.sparse_softmax_cross_entropy_with_logits(logits1, train_labels_node[:,1])) + \\\n",
    "            tf.reduce_mean(tf.nn.sparse_softmax_cross_entropy_with_logits(logits2, train_labels_node[:,2])) + \\\n",
    "            tf.reduce_mean(tf.nn.sparse_softmax_cross_entropy_with_logits(logits3, train_labels_node[:,3])) + \\\n",
    "            tf.reduce_mean(tf.nn.sparse_softmax_cross_entropy_with_logits(logits4, train_labels_node[:,4])) + \\\n",
    "            tf.reduce_mean(tf.nn.sparse_softmax_cross_entropy_with_logits(logits5, train_labels_node[:,5]))\n",
    "    train_prediction = tf.pack([tf.nn.softmax(logits1),\n",
    "                                tf.nn.softmax(logits2),\n",
    "                                tf.nn.softmax(logits3),\n",
    "                                tf.nn.softmax(logits4),\n",
    "                                tf.nn.softmax(logits5)])     \n",
    "  \n",
    "    # Optimizer.\n",
    "    optimizer = tf.train.GradientDescentOptimizer(0.5).minimize(loss)\n",
    "  \n",
    "    # Predictions for the training, validation, and test data.\n",
    "    train_prediction = tf.pack([tf.nn.softmax(logits1)])\n",
    "    #test_prediction = tf.nn.softmax(tf.matmul(test_data_node, fc1_weights) + fc1_biases)"
   ]
  },
  {
   "cell_type": "code",
   "execution_count": null,
   "metadata": {
    "collapsed": false
   },
   "outputs": [],
   "source": [
    "with tf.Session(graph=graph) as session:\n",
    "    fc_dataset = train_data.reshape((-1, IMAGE_SIZE * IMAGE_SIZE)).astype(np.float32)\n",
    "    tf.initialize_all_variables().run()\n",
    "    print(\"Initialized\")\n",
    "    #for step in range(num_steps):\n",
    "    for step in xrange(int(NUM_EPOCHS*train_size) / BATCH_SIZE):\n",
    "    # Pick an offset within the training data, which has been randomized.\n",
    "    # Note: we could use better randomization across epochs.\n",
    "        offset = (step * BATCH_SIZE) % (train_labels.shape[0] - BATCH_SIZE)\n",
    "        # Generate a minibatch.\n",
    "        batch_data = fc_dataset[offset:(offset + BATCH_SIZE), :]\n",
    "        batch_labels = train_labels[offset:(offset + BATCH_SIZE), :]\n",
    "        # Prepare a dictionary telling the session where to feed the minibatch.\n",
    "        # The key of the dictionary is the placeholder node of the graph to be fed,\n",
    "        # and the value is the numpy array to feed to it.\n",
    "        feed_dict = {train_data_node : batch_data, train_labels_node : batch_labels}\n",
    "        _, l, predictions = session.run([optimizer, loss, train_prediction], feed_dict=feed_dict)\n",
    "        if (step % 50 == 0):\n",
    "            print(\"Minibatch loss at step %d: %f\" % (step, l))\n",
    "            #print(\"Minibatch accuracy: %.1f%%\" % accuracy(predictions, batch_labels[:,1:6]))\n",
    "#print(\"Validation accuracy: %.1f%%\" % accuracy(\n",
    "#        valid_prediction.eval(), valid_labels))\n",
    "#  print(\"Test accuracy: %.1f%%\" % accuracy(test_prediction.eval(), test_labels))"
   ]
  },
  {
   "cell_type": "code",
   "execution_count": null,
   "metadata": {
    "collapsed": false
   },
   "outputs": [],
   "source": [
    "test_data_node = tf.constant(test_data)"
   ]
  },
  {
   "cell_type": "code",
   "execution_count": null,
   "metadata": {
    "collapsed": true
   },
   "outputs": [],
   "source": [
    "\n",
    "test_prediction = tf.pack([tf.nn.softmax()])"
   ]
  },
  {
   "cell_type": "code",
   "execution_count": null,
   "metadata": {
    "collapsed": true
   },
   "outputs": [],
   "source": [
    "graph = tf.Graph()"
   ]
  },
  {
   "cell_type": "code",
   "execution_count": null,
   "metadata": {
    "collapsed": true
   },
   "outputs": [],
   "source": [
    "test_pred = model(test_data, train=False)"
   ]
  },
  {
   "cell_type": "code",
   "execution_count": null,
   "metadata": {
    "collapsed": false
   },
   "outputs": [],
   "source": [
    "[test_logits1, test_logits2, test_logits3, test_logits4, test_logits5] = model(test_data_node, train=False)\n",
    "test_prediction = tf.pack([tf.nn.softmax(test_logits1),\n",
    "                            tf.nn.softmax(test_logits2),\n",
    "                            tf.nn.softmax(test_logits3),\n",
    "                            tf.nn.softmax(test_logits4),\n",
    "                            tf.nn.softmax(test_logits5)])"
   ]
  },
  {
   "cell_type": "code",
   "execution_count": null,
   "metadata": {
    "collapsed": false
   },
   "outputs": [],
   "source": [
    "test_prediction = sess.run(test_prediction)"
   ]
  },
  {
   "cell_type": "code",
   "execution_count": null,
   "metadata": {
    "collapsed": false
   },
   "outputs": [],
   "source": [
    "accuracy(test_prediction, test_labels[:,1:6])"
   ]
  },
  {
   "cell_type": "code",
   "execution_count": null,
   "metadata": {
    "collapsed": false
   },
   "outputs": [],
   "source": [
    "np.argmax(test_prediction, 2).T[847-1]"
   ]
  },
  {
   "cell_type": "code",
   "execution_count": null,
   "metadata": {
    "collapsed": true
   },
   "outputs": [],
   "source": [
    "def accuracy(predictions, labels):\n",
    "    return (np.sum(np.argmax(predictions, 2).T == labels))"
   ]
  },
  {
   "cell_type": "code",
   "execution_count": null,
   "metadata": {
    "collapsed": false
   },
   "outputs": [],
   "source": [
    "with graph.as_default():\n",
    "    train_data_node = tf.placeholder(tf.float32, shape = (BATCH_SIZE, IMAGE_SIZE, IMAGE_SIZE, NUM_CHANNELS))\n",
    "    train_labels_node = tf.placeholder(tf.int64, shape = (BATCH_SIZE, 6))\n",
    "    \n",
    "    conv1_weights = tf.Variable(tf.truncated_normal([5, 5, NUM_CHANNELS, DEPTH1], \n",
    "                                   stddev = 0.1,\n",
    "                                   seed = SEED,\n",
    "                                   dtype = tf.float32))\n",
    "    conv1_biases = tf.Variable(tf.constant(0.1, shape=[DEPTH1], dtype=tf.float32))\n",
    "    conv2_weights = tf.Variable(tf.truncated_normal([5, 5, DEPTH1, DEPTH2],\n",
    "                                   stddev = 0.1,\n",
    "                                   seed = SEED,\n",
    "                                   dtype = tf.float32))\n",
    "    conv2_biases = tf.Variable(tf.constant(0.1, shape=[DEPTH2], dtype=tf.float32))\n",
    "    conv3_weights = tf.Variable(tf.truncated_normal([5, 5, DEPTH2, DEPTH3],\n",
    "                                   stddev = 0.1,\n",
    "                                   seed = SEED,\n",
    "                                   dtype = tf.float32))\n",
    "    conv3_biases = tf.Variable(tf.constant(0.1, shape=[DEPTH3], dtype=tf.float32))\n",
    "    \n",
    "    #fully connected layers and biases\n",
    "    fc1_weights = tf.Variable(tf.truncated_normal([DEPTH3, OUT_LABELS],\n",
    "                                                 stddev = 0.1,\n",
    "                                                 seed = SEED, dtype=tf.float32))\n",
    "    fc1_biases = tf.Variable(tf.constant(0.1, shape=[OUT_LABELS], dtype=tf.float32))\n",
    "    fc2_weights = tf.Variable(tf.truncated_normal([DEPTH3, OUT_LABELS],\n",
    "                                                 stddev = 0.1,\n",
    "                                                 seed = SEED, dtype=tf.float32))\n",
    "    fc2_biases = tf.Variable(tf.constant(0.1, shape=[OUT_LABELS], dtype=tf.float32))\n",
    "    fc3_weights = tf.Variable(tf.truncated_normal([DEPTH3, OUT_LABELS],\n",
    "                                                 stddev = 0.1,\n",
    "                                                 seed = SEED, dtype=tf.float32))\n",
    "    fc3_biases = tf.Variable(tf.constant(0.1, shape=[OUT_LABELS], dtype=tf.float32))\n",
    "    fc4_weights = tf.Variable(tf.truncated_normal([DEPTH3, OUT_LABELS],\n",
    "                                                 stddev = 0.1,\n",
    "                                                 seed = SEED, dtype=tf.float32))\n",
    "    fc4_biases = tf.Variable(tf.constant(0.1, shape=[OUT_LABELS], dtype=tf.float32))\n",
    "    fc5_weights = tf.Variable(tf.truncated_normal([DEPTH3, OUT_LABELS],\n",
    "                                                 stddev = 0.1,\n",
    "                                                 seed = SEED, dtype=tf.float32))\n",
    "    fc5_biases = tf.Variable(tf.constant(0.1, shape=[OUT_LABELS], dtype=tf.float32))\n",
    "    def model(data, train=False):\n",
    "        conv = tf.nn.conv2d(data, conv1_weights, strides=[1,1,1,1], padding='VALID')\n",
    "        relu = tf.nn.relu(tf.nn.bias_add(conv, conv1_biases))\n",
    "        pool = tf.nn.max_pool(relu, ksize=[1,2,2,1], strides=[1,2,2,1], padding='SAME')\n",
    "        conv = tf.nn.conv2d(pool, conv2_weights, strides=[1,1,1,1], padding='VALID')\n",
    "        relu = tf.nn.relu(tf.nn.bias_add(conv, conv2_biases))\n",
    "        pool = tf.nn.max_pool(relu, ksize=[1,2,2,1], strides=[1,2,2,1], padding='SAME')\n",
    "        conv = tf.nn.conv2d(pool, conv3_weights, strides=[1,1,1,1], padding='VALID')\n",
    "        hidden = tf.nn.relu(tf.nn.bias_add(conv, conv3_biases))\n",
    "        if train:\n",
    "            hidden = tf.nn.dropout(hidden, 0.5, seed=SEED)\n",
    "        shape=hidden.get_shape().as_list()\n",
    "        reshape=tf.reshape(hidden, [shape[0], shape[1]*shape[2]*shape[3]])\n",
    "        # fully connected layers\n",
    "        logits1 = tf.matmul(reshape, fc1_weights) + fc1_biases\n",
    "        logits2 = tf.matmul(reshape, fc2_weights) + fc2_biases\n",
    "        logits3 = tf.matmul(reshape, fc3_weights) + fc3_biases\n",
    "        logits4 = tf.matmul(reshape, fc4_weights) + fc4_biases\n",
    "        logits5 = tf.matmul(reshape, fc5_weights) + fc5_biases\n",
    "        return [logits1, logits2, logits3, logits4, logits5]\n",
    "    [logits1, logits2, logits3, logits4, logits5] = model(train_data_node, train=True)\n",
    "    # loss function\n",
    "    loss = tf.reduce_mean(tf.nn.sparse_softmax_cross_entropy_with_logits(logits1, train_labels_node[:,1])) + \\\n",
    "            tf.reduce_mean(tf.nn.sparse_softmax_cross_entropy_with_logits(logits2, train_labels_node[:,2])) + \\\n",
    "            tf.reduce_mean(tf.nn.sparse_softmax_cross_entropy_with_logits(logits3, train_labels_node[:,3])) + \\\n",
    "            tf.reduce_mean(tf.nn.sparse_softmax_cross_entropy_with_logits(logits4, train_labels_node[:,4])) + \\\n",
    "            tf.reduce_mean(tf.nn.sparse_softmax_cross_entropy_with_logits(logits5, train_labels_node[:,5]))\n",
    "            \n",
    "    batch = tf.Variable(0)\n",
    "    learning_rate = tf.train.exponential_decay(0.01, batch*BATCH_SIZE, train_size, 0.95, staircase=True)\n",
    "    optimizer = tf.train.MomentumOptimizer(learning_rate, 0.9).minimize(loss, global_step=batch)\n",
    "    train_pred = model(train_data, train=True)\n",
    "    train_prediction = tf.pack([tf.nn.softmax(train_pred[0]),\n",
    "                                tf.nn.softmax(train_pred[1]),\n",
    "                                tf.nn.softmax(train_pred[2]),\n",
    "                                tf.nn.softmax(train_pred[3]),\n",
    "                                tf.nn.softmax(train_pred[4])])\n",
    "    with tf.Session() as sess:\n",
    "        tf.initialize_all_variables().run()\n",
    "#        for step in xrange(int(NUM_EPOCHS*train_size) // BATCH_SIZE):\n",
    "        for step in xrange(1):\n",
    "            offset = (step*BATCH_SIZE) % (train_size - BATCH_SIZE)\n",
    "            batch_data = train_data[offset:(offset + BATCH_SIZE),]\n",
    "            batch_labels = train_labels[offset:(offset+BATCH_SIZE)]\n",
    "            feed_dict = {train_data_node:batch_data, train_labels_node:batch_labels}\n",
    "            _, l, lr, predictions = sess.run([optimizer, loss, learning_rate, train_prediction], feed_dict=feed_dict)\n",
    "            #acc = accuracy(predictions, batch_labels[:,1:6])\n",
    "            #print('LOSS: %.3f,' % l)\n",
    "            #print(': %.3f,' % l)"
   ]
  },
  {
   "cell_type": "code",
   "execution_count": null,
   "metadata": {
    "collapsed": false
   },
   "outputs": [],
   "source": [
    "np.argmax(predictions, 2).T[29-1]"
   ]
  },
  {
   "cell_type": "code",
   "execution_count": null,
   "metadata": {
    "collapsed": false
   },
   "outputs": [],
   "source": [
    "sess"
   ]
  },
  {
   "cell_type": "code",
   "execution_count": null,
   "metadata": {
    "collapsed": true
   },
   "outputs": [],
   "source": [
    "sess = tf.Session(graph = graph)"
   ]
  },
  {
   "cell_type": "code",
   "execution_count": null,
   "metadata": {
    "collapsed": true
   },
   "outputs": [],
   "source": [
    "batch_data = test_data[0:64,]\n",
    "batch_labels = test_labels[0:64]"
   ]
  },
  {
   "cell_type": "code",
   "execution_count": null,
   "metadata": {
    "collapsed": false
   },
   "outputs": [],
   "source": [
    "_, l, lr, predictions = sess.run([optimizer, loss, learning_rate, train_prediction],\n",
    "                                 feed_dict = {train_data_node:batch_data, train_labels_node:batch_labels})"
   ]
  },
  {
   "cell_type": "code",
   "execution_count": null,
   "metadata": {
    "collapsed": false
   },
   "outputs": [],
   "source": [
    "accuracy(predictions, batch_labels[:,1:6])"
   ]
  },
  {
   "cell_type": "code",
   "execution_count": null,
   "metadata": {
    "collapsed": false
   },
   "outputs": [],
   "source": [
    "np.sum(np.argmax(predictions, 2).T == batch_labels[:,1:6])"
   ]
  },
  {
   "cell_type": "code",
   "execution_count": null,
   "metadata": {
    "collapsed": false
   },
   "outputs": [],
   "source": [
    "np.argmax(predictions, 2).T[11]"
   ]
  },
  {
   "cell_type": "code",
   "execution_count": null,
   "metadata": {
    "collapsed": false,
    "scrolled": true
   },
   "outputs": [],
   "source": [
    "np.argmax(predictions, 2).T[0]"
   ]
  },
  {
   "cell_type": "code",
   "execution_count": null,
   "metadata": {
    "collapsed": false
   },
   "outputs": [],
   "source": [
    "batch_labels[1-1][1:6]"
   ]
  },
  {
   "cell_type": "code",
   "execution_count": null,
   "metadata": {
    "collapsed": false
   },
   "outputs": [],
   "source": [
    "(np.argmax(predictions, 2).T == train_labels[:,1:6])"
   ]
  },
  {
   "cell_type": "code",
   "execution_count": null,
   "metadata": {
    "collapsed": false
   },
   "outputs": [],
   "source": [
    "train_labels[26-1][1:6]"
   ]
  },
  {
   "cell_type": "code",
   "execution_count": null,
   "metadata": {
    "collapsed": false
   },
   "outputs": [],
   "source": [
    "train_labels[offset+1]"
   ]
  },
  {
   "cell_type": "code",
   "execution_count": null,
   "metadata": {
    "collapsed": false
   },
   "outputs": [],
   "source": [
    "train_labels[:,1].shape"
   ]
  },
  {
   "cell_type": "code",
   "execution_count": null,
   "metadata": {
    "collapsed": false
   },
   "outputs": [],
   "source": [
    "print train_labels[27]"
   ]
  },
  {
   "cell_type": "code",
   "execution_count": null,
   "metadata": {
    "collapsed": false
   },
   "outputs": [],
   "source": [
    "print predictions[0][0]"
   ]
  },
  {
   "cell_type": "code",
   "execution_count": null,
   "metadata": {
    "collapsed": false
   },
   "outputs": [],
   "source": [
    "print predictions[1][10]"
   ]
  },
  {
   "cell_type": "code",
   "execution_count": null,
   "metadata": {
    "collapsed": false
   },
   "outputs": [],
   "source": [
    "print predictions[0][0]"
   ]
  },
  {
   "cell_type": "code",
   "execution_count": null,
   "metadata": {
    "collapsed": false
   },
   "outputs": [],
   "source": [
    "print predictions[1][30]"
   ]
  },
  {
   "cell_type": "code",
   "execution_count": null,
   "metadata": {
    "collapsed": false
   },
   "outputs": [],
   "source": [
    "print predictions[4][0]"
   ]
  },
  {
   "cell_type": "code",
   "execution_count": null,
   "metadata": {
    "collapsed": true
   },
   "outputs": [],
   "source": []
  }
 ],
 "metadata": {
  "kernelspec": {
   "display_name": "Python 2",
   "language": "python",
   "name": "python2"
  },
  "language_info": {
   "codemirror_mode": {
    "name": "ipython",
    "version": 2
   },
   "file_extension": ".py",
   "mimetype": "text/x-python",
   "name": "python",
   "nbconvert_exporter": "python",
   "pygments_lexer": "ipython2",
   "version": "2.7.6"
  }
 },
 "nbformat": 4,
 "nbformat_minor": 0
}
